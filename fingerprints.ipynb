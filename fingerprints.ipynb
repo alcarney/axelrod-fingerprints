{
 "cells": [
  {
   "cell_type": "code",
   "execution_count": 1,
   "metadata": {
    "collapsed": true
   },
   "outputs": [
    {
     "name": "stdout",
     "output_type": "stream",
     "text": [
      "Collecting axelrod\n",
      "  Downloading Axelrod-1.9.0-py2.py3-none-any.whl (89kB)\n",
      "\u001b[K    100% |████████████████████████████████| 92kB 1.0MB/s \n",
      "\u001b[?25hRequirement already satisfied (use --upgrade to upgrade): matplotlib>=1.4.2 in /opt/conda/lib/python3.5/site-packages (from axelrod)\n",
      "Collecting pyparsing==2.1.1 (from axelrod)\n",
      "  Downloading pyparsing-2.1.1-py2.py3-none-any.whl\n",
      "Requirement already satisfied (use --upgrade to upgrade): numpy>=1.9.2 in /opt/conda/lib/python3.5/site-packages (from axelrod)\n",
      "Collecting tqdm==3.4.0 (from axelrod)\n",
      "  Downloading tqdm-3.4.0-py2.py3-none-any.whl\n",
      "Collecting hypothesis>=3.2 (from axelrod)\n",
      "  Downloading hypothesis-3.4.2.tar.gz (71kB)\n",
      "\u001b[K    100% |████████████████████████████████| 71kB 3.3MB/s \n",
      "\u001b[?25hRequirement already satisfied (use --upgrade to upgrade): python-dateutil in /opt/conda/lib/python3.5/site-packages (from matplotlib>=1.4.2->axelrod)\n",
      "Requirement already satisfied (use --upgrade to upgrade): pytz in /opt/conda/lib/python3.5/site-packages (from matplotlib>=1.4.2->axelrod)\n",
      "Requirement already satisfied (use --upgrade to upgrade): cycler in /opt/conda/lib/python3.5/site-packages/cycler-0.10.0-py3.5.egg (from matplotlib>=1.4.2->axelrod)\n",
      "Requirement already satisfied (use --upgrade to upgrade): six>=1.5 in /opt/conda/lib/python3.5/site-packages (from python-dateutil->matplotlib>=1.4.2->axelrod)\n",
      "Building wheels for collected packages: hypothesis\n",
      "  Running setup.py bdist_wheel for hypothesis ... \u001b[?25l-\b \b\\\b \b|\b \bdone\n",
      "\u001b[?25h  Stored in directory: /home/jovyan/.cache/pip/wheels/70/13/1b/ded62e1ad7d6f189c7dd5008a57b7b97e2c92ebf16069cf54e\n",
      "Successfully built hypothesis\n",
      "Installing collected packages: pyparsing, tqdm, hypothesis, axelrod\n",
      "  Found existing installation: pyparsing 2.1.7\n",
      "    Uninstalling pyparsing-2.1.7:\n",
      "      Successfully uninstalled pyparsing-2.1.7\n",
      "Successfully installed axelrod-1.9.0 hypothesis-3.4.2 pyparsing-2.1.1 tqdm-3.4.0\n"
     ]
    }
   ],
   "source": [
    "!pip install axelrod"
   ]
  },
  {
   "cell_type": "code",
   "execution_count": 199,
   "metadata": {
    "collapsed": true
   },
   "outputs": [
    {
     "name": "stdout",
     "output_type": "stream",
     "text": [
      "Collecting python-ternary\n",
      "  Downloading python-ternary-1.0.tar.gz\n",
      "Requirement already satisfied (use --upgrade to upgrade): matplotlib>=1.4 in /opt/conda/lib/python3.5/site-packages (from python-ternary)\n",
      "Requirement already satisfied (use --upgrade to upgrade): numpy>=1.6 in /opt/conda/lib/python3.5/site-packages (from matplotlib>=1.4->python-ternary)\n",
      "Requirement already satisfied (use --upgrade to upgrade): python-dateutil in /opt/conda/lib/python3.5/site-packages (from matplotlib>=1.4->python-ternary)\n",
      "Requirement already satisfied (use --upgrade to upgrade): pytz in /opt/conda/lib/python3.5/site-packages (from matplotlib>=1.4->python-ternary)\n",
      "Requirement already satisfied (use --upgrade to upgrade): cycler in /opt/conda/lib/python3.5/site-packages/cycler-0.10.0-py3.5.egg (from matplotlib>=1.4->python-ternary)\n",
      "Requirement already satisfied (use --upgrade to upgrade): pyparsing!=2.0.4,>=1.5.6 in /opt/conda/lib/python3.5/site-packages (from matplotlib>=1.4->python-ternary)\n",
      "Requirement already satisfied (use --upgrade to upgrade): six>=1.5 in /opt/conda/lib/python3.5/site-packages (from python-dateutil->matplotlib>=1.4->python-ternary)\n",
      "Building wheels for collected packages: python-ternary\n",
      "  Running setup.py bdist_wheel for python-ternary ... \u001b[?25l-\b \b\\\b \bdone\n",
      "\u001b[?25h  Stored in directory: /home/jovyan/.cache/pip/wheels/bc/65/67/f96aeea8357b58293420e6550387a48c186d53b9af27da4612\n",
      "Successfully built python-ternary\n",
      "Installing collected packages: python-ternary\n",
      "Successfully installed python-ternary-1.0\n"
     ]
    }
   ],
   "source": [
    "!pip install python-ternary"
   ]
  },
  {
   "cell_type": "markdown",
   "metadata": {},
   "source": [
    "# Calculating the Fingerprint of a strategy"
   ]
  },
  {
   "cell_type": "markdown",
   "metadata": {},
   "source": [
    "Assuming I have interpreted [this](http://lib.dr.iastate.edu/cgi/viewcontent.cgi?article=2243&context=rtd) thesis correctly calculating the fingerprint of a strategy can be done as follows:\n",
    "\n",
    "Play a strategy $S$ against a 'Noisy' strategy $JA$ based on a\n",
    "strategy $A$\n",
    "\n",
    "The strategy $JA$ comes from the function $JA(A, x, y)$ where:\n",
    "   \n",
    "- $A$ is a strategy\n",
    "- $x$ is a probability\n",
    "- $y$ is a probability\n",
    "   \n",
    "It behaves in the following fashion:\n",
    "   \n",
    "- $JA$ cooperates with probability $x$\n",
    "- $JA$ defects with probability $y$\n",
    "- $JA$ behaves like $A$ with probability $1 - (x + y)$\n",
    "\n",
    "Then the fingerprint of $S$ based on $JA$ is the expected score of $S$ when\n",
    "played against $JA$ for each $x$, $y$. (This will be a function in $x$ and $y$)\n",
    "   "
   ]
  },
  {
   "cell_type": "markdown",
   "metadata": {},
   "source": [
    "### The approach\n",
    "\n",
    "You can analytically derive the fingerprint function for certain strategies by using the following method:\n",
    "\n",
    "1. Represent the strategies as finite state machines\n",
    "2. Construct a Markov Chain of the possible states of the system\n",
    "3. Find the steady state of the markov chain\n",
    "   -> This will give the probability distribution of finding the system\n",
    "      in a state X\n",
    "4. The expected score is then taking the dot product of these      \n",
    "   probabilities associated with each state.\n",
    "   \n",
    "However it will not always be possible to do this analytically, so a numeric approach will be needed. \n",
    "\n",
    "I believe the key to this step is finding the probability distribution we get in step 3. So I propose the following method:\n",
    "\n",
    "1. Play the two strategies against each other for a large number of turns\n",
    "   setting a value of $x$ and $y$ in the $JA$ strategy. \n",
    "2. Look at the actions taken at the end of each round and count them\n",
    "3. Normalising this to make all values less than one we will have the PDF\n",
    "4. Calculate the expected score based on this approximate distribution and\n",
    "   plot it on the graph\n",
    "5. Repeat for many values of $x$ and $y$ to build up the graph seen in the \n",
    "   link above (Section 2.-1-2.2)"
   ]
  },
  {
   "cell_type": "code",
   "execution_count": 124,
   "metadata": {
    "collapsed": false
   },
   "outputs": [],
   "source": [
    "import axelrod as axl\n",
    "import numpy as np\n",
    "from axelrod.strategy_transformers import MixedTransformer\n",
    "import matplotlib.pyplot as plt\n",
    "import itertools"
   ]
  },
  {
   "cell_type": "markdown",
   "metadata": {},
   "source": [
    "## Deciding on the Number of Iterations to Run\n",
    "\n",
    "To get a good approximation of the distribution we need to play a large number of games. This section tries to give us an idea of how many games we need to play to get a good approximation."
   ]
  },
  {
   "cell_type": "code",
   "execution_count": 178,
   "metadata": {
    "collapsed": false
   },
   "outputs": [],
   "source": [
    "def makeplt(players, num_turns):\n",
    "    \n",
    "    # Make a match and play it for the number of turns\n",
    "    match = axl.Match(players, num_turns)\n",
    "    res = match.play()\n",
    "    \n",
    "    # Make the distribution of the states\n",
    "    keys = [('C','C'), ('C','D'), ('D','C'),('D','D')]\n",
    "    dist = {k : res.count(k) for k in keys}\n",
    "    #print(dist)\n",
    "    \n",
    "    # Hack it so matplotlib helps us\n",
    "    vals = [res.count(k) for k in keys]\n",
    "    vals = list(map(lambda x: x/len(res), vals))\n",
    "    #print(vals)\n",
    "\n",
    "    # Return the plot\n",
    "    return plt.plot([0,1,2,3], vals, label='%i Turns' % num_turns)"
   ]
  },
  {
   "cell_type": "code",
   "execution_count": 179,
   "metadata": {
    "collapsed": false
   },
   "outputs": [],
   "source": [
    "prob = [0.4, 0.3]\n",
    "strats = [axl.Cooperator, axl.Defector]\n",
    "\n",
    "player = MixedTransformer(prob, strats)(axl.WinStayLoseShift)\n",
    "\n",
    "#players = (axl.TitForTat(), axl.Defector())\n",
    "players = (axl.TitForTat(), player())"
   ]
  },
  {
   "cell_type": "code",
   "execution_count": 180,
   "metadata": {
    "collapsed": false
   },
   "outputs": [
    {
     "data": {
      "text/plain": [
       "<matplotlib.legend.Legend at 0x7f276036a828>"
      ]
     },
     "execution_count": 180,
     "metadata": {},
     "output_type": "execute_result"
    },
    {
     "data": {
      "image/png": "[encoded data removed]",
      "text/plain": [
       "<matplotlib.figure.Figure at 0x7f276036ab00>"
      ]
     },
     "metadata": {},
     "output_type": "display_data"
    }
   ],
   "source": [
    "axes = plt.gca()\n",
    "axes.set_ylim([0, 1.0])\n",
    "\n",
    "p = makeplt(players, 5)\n",
    "\n",
    "for n in [50, 500, 5000, 10000]:\n",
    "    p += makeplt(players, n)\n",
    "plt.legend(p)"
   ]
  },
  {
   "cell_type": "markdown",
   "metadata": {},
   "source": [
    "So looking at this it looks like playing for a few thousand turns\n",
    "should give us a good approximation"
   ]
  },
  {
   "cell_type": "markdown",
   "metadata": {},
   "source": [
    "## Calculating the Expected Score\n",
    "\n",
    "Now that we have an idea of the number of runs, we now need to think about how to calculate the expected score for a given $x$ and $y$\n",
    "\n",
    "The expected score will be given by the sum of the scores multiplied by their probability in the approximated distribution"
   ]
  },
  {
   "cell_type": "code",
   "execution_count": 210,
   "metadata": {
    "collapsed": false
   },
   "outputs": [],
   "source": [
    "def calc_expected_score(x, y):\n",
    "    # Implements the double fingerprint on the unit sqaure \n",
    "    if x + y > 1:\n",
    "        prob = [1 - y, 1 - x]\n",
    "    else:\n",
    "        prob = [x, y]\n",
    "        \n",
    "    strats = [axl.Cooperator, axl.Defector]\n",
    "\n",
    "    player = MixedTransformer(prob, strats)(axl.TitForTat)\n",
    "    players = (axl.WinStayLoseShift(), player())\n",
    "    scores = [3, 0, 5, 1]\n",
    "    \n",
    "    # Make a match and play it for the number of turns\n",
    "    match = axl.Match(players, 5000)\n",
    "    res = match.play()\n",
    "   \n",
    "    # Make the distribution of the states\n",
    "    keys = [('C','C'), ('C','D'), ('D','C'),('D','D')]    \n",
    "    vals = [res.count(k) for k in keys]\n",
    "    \n",
    "    # Normalise the distribution\n",
    "    vals = list(map(lambda x: x/len(res), vals))\n",
    "    \n",
    "    # Calculate the expected score\n",
    "    score = sum(np.multiply(scores, vals))\n",
    "    \n",
    "    return score"
   ]
  },
  {
   "cell_type": "code",
   "execution_count": 187,
   "metadata": {
    "collapsed": false
   },
   "outputs": [
    {
     "data": {
      "text/plain": [
       "2.1318000000000001"
      ]
     },
     "execution_count": 187,
     "metadata": {},
     "output_type": "execute_result"
    }
   ],
   "source": [
    "calc_expected_score(0.2, 0.3)"
   ]
  },
  {
   "cell_type": "markdown",
   "metadata": {},
   "source": [
    "## Making the plot\n",
    "\n",
    "Assuming that what we have done here is correct then the plot we get at the end of this section will be the same as the one in the thesis linked above (Figure 2.2)\n",
    "\n",
    "To make the plot we need to run the above function for many values of $x$ and $y$ and map the expected score we get onto a gradient and plot the colour against the values of $x$ and $y$ we used."
   ]
  },
  {
   "cell_type": "code",
   "execution_count": null,
   "metadata": {
    "collapsed": false
   },
   "outputs": [],
   "source": [
    "xs = np.arange(0, 1.0, 0.1)\n",
    "ys = np.arange(0, 1.0, 0.1)\n",
    "\n",
    "grid = itertools.product(xs,ys)\n",
    "#X,Y = np.meshgrid(xs,ys)\n",
    "\n",
    "vals = [[calc_expected_score(x,y) for y in ys] for x in xs] "
   ]
  },
  {
   "cell_type": "code",
   "execution_count": null,
   "metadata": {
    "collapsed": false
   },
   "outputs": [],
   "source": [
    "plt.imshow(vals, interpolation='nearest', cmap='gray') "
   ]
  },
  {
   "cell_type": "code",
   "execution_count": null,
   "metadata": {
    "collapsed": true
   },
   "outputs": [],
   "source": []
  },
  {
   "cell_type": "code",
   "execution_count": 146,
   "metadata": {
    "collapsed": false
   },
   "outputs": [],
   "source": []
  }
 ],
 "metadata": {
  "kernelspec": {
   "display_name": "Python 3",
   "language": "python",
   "name": "python3"
  },
  "language_info": {
   "codemirror_mode": {
    "name": "ipython",
    "version": 3
   },
   "file_extension": ".py",
   "mimetype": "text/x-python",
   "name": "python",
   "nbconvert_exporter": "python",
   "pygments_lexer": "ipython3",
   "version": "3.5.2"
  }
 },
 "nbformat": 4,
 "nbformat_minor": 0
}
